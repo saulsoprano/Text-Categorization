{
 "cells": [
  {
   "cell_type": "code",
   "execution_count": 1,
   "id": "72c8a982",
   "metadata": {},
   "outputs": [],
   "source": [
    "from sklearn.datasets import fetch_20newsgroups\n",
    "import os\n",
    "import string\n",
    "from nltk.corpus import stopwords\n",
    "from nltk.stem import PorterStemmer\n",
    "from nltk.tokenize import word_tokenize"
   ]
  },
  {
   "cell_type": "code",
   "execution_count": 2,
   "id": "488c3844",
   "metadata": {},
   "outputs": [],
   "source": [
    "news_train = fetch_20newsgroups(subset ='train')\n",
    "news_test = fetch_20newsgroups(subset ='test')"
   ]
  },
  {
   "cell_type": "code",
   "execution_count": 3,
   "id": "84997b8f",
   "metadata": {},
   "outputs": [],
   "source": [
    "stop_words = set(stopwords.words('english'))\n",
    "stemmer = PorterStemmer()"
   ]
  },
  {
   "cell_type": "code",
   "execution_count": 4,
   "id": "c31f131d",
   "metadata": {},
   "outputs": [],
   "source": [
    "def clean(text):\n",
    "    \n",
    "    # Removing email headers\n",
    "    text = text.split('\\n\\n', 1)[-1]\n",
    "    \n",
    "    # Removing any leading or trailing white space\n",
    "    text = text.strip()\n",
    "    \n",
    "    # Removing any quoted text\n",
    "    text = '\\n'.join([line for line in text.split('\\n') if not line.startswith('>')])\n",
    "    \n",
    "    # Removing any URLs\n",
    "    text = ' '.join([word for word in text.split() if not word.startswith('http')])\n",
    "    return text"
   ]
  },
  {
   "cell_type": "code",
   "execution_count": 5,
   "id": "0b14ef3b",
   "metadata": {},
   "outputs": [],
   "source": [
    "def preprocess(text):\n",
    "    \n",
    "    # Removing punctuation marks and converting to lowercase\n",
    "    text = text.translate(str.maketrans('', '', string.punctuation)).lower()\n",
    "    \n",
    "    # Tokenizing the text into words\n",
    "    words = word_tokenize(text)\n",
    "    \n",
    "    # Removing stop words and stem the remaining words\n",
    "    words = [stemmer.stem(word) for word in words if word not in stop_words]\n",
    "    \n",
    "    # Join the words back into a string\n",
    "    text = ' '.join(words)\n",
    "    return text\n"
   ]
  },
  {
   "cell_type": "code",
   "execution_count": 6,
   "id": "019fb96f",
   "metadata": {},
   "outputs": [],
   "source": [
    "preprocessed_data = []\n",
    "for text in news_train.data:\n",
    "    cleaned_text = clean(text)\n",
    "    preprocessed_text = preprocess(cleaned_text)\n",
    "    preprocessed_data.append(preprocessed_text)"
   ]
  },
  {
   "cell_type": "code",
   "execution_count": 7,
   "id": "a24a0f57",
   "metadata": {},
   "outputs": [],
   "source": [
    "from sklearn.feature_extraction.text import TfidfVectorizer\n",
    "from sklearn.naive_bayes import MultinomialNB\n",
    "from sklearn.metrics import accuracy_score\n",
    "from sklearn.preprocessing import LabelEncoder"
   ]
  },
  {
   "cell_type": "code",
   "execution_count": 8,
   "id": "533aeded",
   "metadata": {},
   "outputs": [],
   "source": [
    "import numpy as np"
   ]
  },
  {
   "cell_type": "code",
   "execution_count": 9,
   "id": "fd6c0453",
   "metadata": {},
   "outputs": [],
   "source": [
    "label_encoder = LabelEncoder()\n",
    "labels = label_encoder.fit_transform(news_train.target)"
   ]
  },
  {
   "cell_type": "code",
   "execution_count": 10,
   "id": "1d3146dc",
   "metadata": {},
   "outputs": [],
   "source": [
    "vectorizer = TfidfVectorizer()\n",
    "X_train = vectorizer.fit_transform(preprocessed_data)\n",
    "y_train = labels\n",
    "X_test = vectorizer.transform([preprocess(clean(text)) for text in news_test.data])\n",
    "y_test = label_encoder.transform(news_test.target)"
   ]
  },
  {
   "cell_type": "code",
   "execution_count": 11,
   "id": "f4a2804d",
   "metadata": {},
   "outputs": [
    {
     "data": {
      "text/plain": [
       "MultinomialNB()"
      ]
     },
     "execution_count": 11,
     "metadata": {},
     "output_type": "execute_result"
    }
   ],
   "source": [
    "clf = MultinomialNB()\n",
    "clf.fit(X_train, y_train)"
   ]
  },
  {
   "cell_type": "code",
   "execution_count": 12,
   "id": "9da10c77",
   "metadata": {},
   "outputs": [],
   "source": [
    "y_pred = clf.predict(X_test)"
   ]
  },
  {
   "cell_type": "code",
   "execution_count": 13,
   "id": "2e938887",
   "metadata": {},
   "outputs": [
    {
     "name": "stdout",
     "output_type": "stream",
     "text": [
      "Accuracy: 0.73\n"
     ]
    }
   ],
   "source": [
    "accuracy = accuracy_score(y_test, y_pred)\n",
    "print(f\"Accuracy: {accuracy:.2f}\")"
   ]
  },
  {
   "cell_type": "code",
   "execution_count": 14,
   "id": "d359cbdc",
   "metadata": {},
   "outputs": [],
   "source": [
    "def predict_category(text):\n",
    "    # Preprocess text\n",
    "    preprocessed_text = preprocess(clean(text))\n",
    "\n",
    "    # Convert text to TF-IDF vector\n",
    "    vector = vectorizer.transform([preprocessed_text])\n",
    "\n",
    "    # Make prediction using classifier\n",
    "    label = clf.predict(vector)[0]\n",
    "\n",
    "    # Convert label back to category name\n",
    "    category = label_encoder.inverse_transform([label])[0]\n",
    "    return category"
   ]
  },
  {
   "cell_type": "code",
   "execution_count": 15,
   "id": "19be84c7",
   "metadata": {},
   "outputs": [
    {
     "data": {
      "text/plain": [
       "14"
      ]
     },
     "execution_count": 15,
     "metadata": {},
     "output_type": "execute_result"
    }
   ],
   "source": [
    "predict_category(\"space is so so far away.\")"
   ]
  },
  {
   "cell_type": "code",
   "execution_count": 16,
   "id": "c84b7f27",
   "metadata": {},
   "outputs": [
    {
     "name": "stdout",
     "output_type": "stream",
     "text": [
      "['alt.atheism', 'comp.graphics', 'comp.os.ms-windows.misc', 'comp.sys.ibm.pc.hardware', 'comp.sys.mac.hardware', 'comp.windows.x', 'misc.forsale', 'rec.autos', 'rec.motorcycles', 'rec.sport.baseball', 'rec.sport.hockey', 'sci.crypt', 'sci.electronics', 'sci.med', 'sci.space', 'soc.religion.christian', 'talk.politics.guns', 'talk.politics.mideast', 'talk.politics.misc', 'talk.religion.misc']\n"
     ]
    }
   ],
   "source": [
    "print(news_train.target_names)\n"
   ]
  },
  {
   "cell_type": "code",
   "execution_count": null,
   "id": "d0771e91",
   "metadata": {},
   "outputs": [],
   "source": []
  }
 ],
 "metadata": {
  "kernelspec": {
   "display_name": "Python 3 (ipykernel)",
   "language": "python",
   "name": "python3"
  },
  "language_info": {
   "codemirror_mode": {
    "name": "ipython",
    "version": 3
   },
   "file_extension": ".py",
   "mimetype": "text/x-python",
   "name": "python",
   "nbconvert_exporter": "python",
   "pygments_lexer": "ipython3",
   "version": "3.9.13"
  }
 },
 "nbformat": 4,
 "nbformat_minor": 5
}
