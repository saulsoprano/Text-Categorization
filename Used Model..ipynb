{
 "cells": [
  {
   "cell_type": "code",
   "execution_count": 45,
   "id": "b169b1b2",
   "metadata": {},
   "outputs": [],
   "source": [
    "from sklearn.datasets import fetch_20newsgroups\n",
    "\n",
    "categories = ['alt.atheism',\n",
    " 'comp.graphics',\n",
    " 'comp.os.ms-windows.misc',\n",
    " 'comp.sys.ibm.pc.hardware',\n",
    " 'comp.sys.mac.hardware',\n",
    " 'comp.windows.x',\n",
    " 'misc.forsale',\n",
    " 'rec.autos',\n",
    " 'rec.motorcycles',\n",
    " 'rec.sport.baseball',\n",
    " 'rec.sport.hockey',\n",
    " 'sci.crypt',\n",
    " 'sci.electronics',\n",
    " 'sci.med',\n",
    " 'sci.space',\n",
    " 'soc.religion.christian',\n",
    " 'talk.politics.guns',\n",
    " 'talk.politics.mideast',\n",
    " 'talk.politics.misc',\n",
    " 'talk.religion.misc']\n",
    "\n",
    "news_train = fetch_20newsgroups(subset ='train', categories=categories,  shuffle=True)\n",
    "news_test = fetch_20newsgroups(subset ='test', categories=categories,  shuffle=True)"
   ]
  },
  {
   "cell_type": "code",
   "execution_count": 46,
   "id": "0cb77238",
   "metadata": {},
   "outputs": [],
   "source": [
    "import os\n",
    "import string\n",
    "from nltk.corpus import stopwords\n",
    "from nltk.stem import PorterStemmer\n",
    "from nltk.tokenize import word_tokenize"
   ]
  },
  {
   "cell_type": "code",
   "execution_count": 47,
   "id": "46881ff5",
   "metadata": {},
   "outputs": [],
   "source": [
    "# Loading the NLTK stopwords and stemmer\n",
    "stop_words = set(stopwords.words('english'))\n",
    "stemmer = PorterStemmer()"
   ]
  },
  {
   "cell_type": "code",
   "execution_count": 48,
   "id": "6e545e65",
   "metadata": {},
   "outputs": [],
   "source": [
    "# Defining a function to preprocess the text data\n",
    "def preprocess(text):\n",
    "    # Removing punctuation marks and converting to lowercase\n",
    "    text = text.translate(str.maketrans('', '', string.punctuation)).lower()\n",
    "    # Tokenizing the text into words\n",
    "    words = word_tokenize(text)\n",
    "    # Removing stop words and stemming the remaining words\n",
    "    words = [stemmer.stem(word) for word in words if word not in stop_words]\n",
    "    # Joining the words back into a string\n",
    "    text = ' '.join(words)\n",
    "    return text"
   ]
  },
  {
   "cell_type": "code",
   "execution_count": 49,
   "id": "480e9f1d",
   "metadata": {},
   "outputs": [],
   "source": [
    "# Preprocess the text data in the training and testing datasets\n",
    "preprocessed_train_data = []\n",
    "for text in news_train.data:\n",
    "    preprocessed_text = preprocess(text)\n",
    "    preprocessed_train_data.append(preprocessed_text)"
   ]
  },
  {
   "cell_type": "code",
   "execution_count": 50,
   "id": "6848a666",
   "metadata": {},
   "outputs": [],
   "source": [
    "preprocessed_test_data = []\n",
    "for text in news_test.data:\n",
    "    preprocessed_text = preprocess(text)\n",
    "    preprocessed_test_data.append(preprocessed_text)"
   ]
  },
  {
   "cell_type": "code",
   "execution_count": 51,
   "id": "c94aa07a",
   "metadata": {},
   "outputs": [],
   "source": [
    "from sklearn.pipeline import make_pipeline\n",
    "from sklearn.feature_extraction.text import TfidfVectorizer\n",
    "from sklearn.naive_bayes import MultinomialNB"
   ]
  },
  {
   "cell_type": "code",
   "execution_count": 52,
   "id": "b75a0c88",
   "metadata": {},
   "outputs": [],
   "source": [
    "# Convert the preprocessed text data into feature vectors\n",
    "vectorizer = TfidfVectorizer()\n",
    "train_features = vectorizer.fit_transform(preprocessed_train_data)\n",
    "test_features = vectorizer.transform(preprocessed_test_data)"
   ]
  },
  {
   "cell_type": "code",
   "execution_count": 53,
   "id": "25e2a7d2",
   "metadata": {},
   "outputs": [
    {
     "data": {
      "text/plain": [
       "Pipeline(steps=[('tfidfvectorizer', TfidfVectorizer()),\n",
       "                ('multinomialnb', MultinomialNB())])"
      ]
     },
     "execution_count": 53,
     "metadata": {},
     "output_type": "execute_result"
    }
   ],
   "source": [
    "model = make_pipeline(TfidfVectorizer(), MultinomialNB())\n",
    "model.fit(news_train.data, news_train.target)"
   ]
  },
  {
   "cell_type": "code",
   "execution_count": 54,
   "id": "034d3f3a",
   "metadata": {},
   "outputs": [
    {
     "name": "stdout",
     "output_type": "stream",
     "text": [
      "Accuracy: 0.7738980350504514\n",
      "Precision: 0.8218781741893993\n",
      "Recall: 0.7738980350504514\n",
      "F1-score: 0.7684457156894653\n"
     ]
    }
   ],
   "source": [
    "from sklearn.metrics import accuracy_score, precision_score, recall_score, f1_score\n",
    "\n",
    "y_pred = model.predict(news_test.data)\n",
    "\n",
    "# Calculate evaluation metrics\n",
    "accuracy = accuracy_score(news_test.target, y_pred)\n",
    "precision = precision_score(news_test.target, y_pred, average='weighted')\n",
    "recall = recall_score(news_test.target, y_pred, average='weighted')\n",
    "f1 = f1_score(news_test.target, y_pred, average='weighted')\n",
    "\n",
    "print(\"Accuracy:\", accuracy)\n",
    "print(\"Precision:\", precision)\n",
    "print(\"Recall:\", recall)\n",
    "print(\"F1-score:\", f1)\n"
   ]
  },
  {
   "cell_type": "code",
   "execution_count": 55,
   "id": "f60b230d",
   "metadata": {},
   "outputs": [],
   "source": [
    "def predict_category(s, news_train=news_train, model=model):\n",
    "    pred = model.predict([s])\n",
    "    return categories[pred[0]]"
   ]
  },
  {
   "cell_type": "code",
   "execution_count": 56,
   "id": "64cd8ada",
   "metadata": {},
   "outputs": [
    {
     "data": {
      "text/plain": [
       "'rec.motorcycles'"
      ]
     },
     "execution_count": 56,
     "metadata": {},
     "output_type": "execute_result"
    }
   ],
   "source": [
    "predict_category(\"motorcycle is my passion\")"
   ]
  },
  {
   "cell_type": "code",
   "execution_count": 57,
   "id": "44282fe5",
   "metadata": {},
   "outputs": [
    {
     "name": "stdout",
     "output_type": "stream",
     "text": [
      "['alt.atheism', 'comp.graphics', 'comp.os.ms-windows.misc', 'comp.sys.ibm.pc.hardware', 'comp.sys.mac.hardware', 'comp.windows.x', 'misc.forsale', 'rec.autos', 'rec.motorcycles', 'rec.sport.baseball', 'rec.sport.hockey', 'sci.crypt', 'sci.electronics', 'sci.med', 'sci.space', 'soc.religion.christian', 'talk.politics.guns', 'talk.politics.mideast', 'talk.politics.misc', 'talk.religion.misc']\n"
     ]
    }
   ],
   "source": [
    "categories = news_train.target_names\n",
    "print(categories)"
   ]
  },
  {
   "cell_type": "code",
   "execution_count": 24,
   "id": "a2f5612c",
   "metadata": {},
   "outputs": [],
   "source": [
    "import pickle"
   ]
  },
  {
   "cell_type": "code",
   "execution_count": 28,
   "id": "d4499bd9",
   "metadata": {},
   "outputs": [],
   "source": [
    "with open('model_final.pkl', 'wb') as f:\n",
    "    pickle.dump({'model': model, 'categories': categories}, f)\n"
   ]
  },
  {
   "cell_type": "code",
   "execution_count": null,
   "id": "6a21f453",
   "metadata": {},
   "outputs": [],
   "source": []
  }
 ],
 "metadata": {
  "kernelspec": {
   "display_name": "Python 3 (ipykernel)",
   "language": "python",
   "name": "python3"
  },
  "language_info": {
   "codemirror_mode": {
    "name": "ipython",
    "version": 3
   },
   "file_extension": ".py",
   "mimetype": "text/x-python",
   "name": "python",
   "nbconvert_exporter": "python",
   "pygments_lexer": "ipython3",
   "version": "3.9.13"
  }
 },
 "nbformat": 4,
 "nbformat_minor": 5
}
