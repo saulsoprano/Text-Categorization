{
 "cells": [
  {
   "cell_type": "code",
   "execution_count": 2,
   "id": "e9fd3ec3",
   "metadata": {},
   "outputs": [],
   "source": [
    "import os\n",
    "import string\n",
    "from sklearn.datasets import fetch_20newsgroups\n",
    "from sklearn.feature_extraction.text import TfidfVectorizer\n",
    "from sklearn.naive_bayes import MultinomialNB\n",
    "from sklearn.ensemble import RandomForestClassifier\n",
    "from sklearn.metrics import accuracy_score, precision_score, recall_score, f1_score\n",
    "from nltk.corpus import stopwords\n",
    "from nltk.stem import PorterStemmer\n",
    "from nltk.tokenize import word_tokenize"
   ]
  },
  {
   "cell_type": "code",
   "execution_count": 3,
   "id": "c2de434d",
   "metadata": {},
   "outputs": [],
   "source": [
    "# Download the dataset and specify the categories to download\n",
    "newsgroups_train = fetch_20newsgroups(subset='train')\n",
    "newsgroups_test = fetch_20newsgroups(subset='test')"
   ]
  },
  {
   "cell_type": "code",
   "execution_count": 4,
   "id": "74a3f6b5",
   "metadata": {},
   "outputs": [],
   "source": [
    "# Load the NLTK stopwords and stemmer\n",
    "stop_words = set(stopwords.words('english'))\n",
    "stemmer = PorterStemmer()"
   ]
  },
  {
   "cell_type": "code",
   "execution_count": 5,
   "id": "55618729",
   "metadata": {},
   "outputs": [],
   "source": [
    "# Define a function to preprocess the text data\n",
    "def preprocess(text):\n",
    "    # Remove punctuation marks and convert to lowercase\n",
    "    text = text.translate(str.maketrans('', '', string.punctuation)).lower()\n",
    "    # Tokenize the text into words\n",
    "    words = word_tokenize(text)\n",
    "    # Remove stop words and stem the remaining words\n",
    "    words = [stemmer.stem(word) for word in words if word not in stop_words]\n",
    "    # Join the words back into a string\n",
    "    text = ' '.join(words)\n",
    "    return text"
   ]
  },
  {
   "cell_type": "code",
   "execution_count": 6,
   "id": "a17146a6",
   "metadata": {},
   "outputs": [],
   "source": [
    "# Preprocess the text data in the training and testing datasets\n",
    "preprocessed_train_data = []\n",
    "for text in newsgroups_train.data:\n",
    "    preprocessed_text = preprocess(text)\n",
    "    preprocessed_train_data.append(preprocessed_text)"
   ]
  },
  {
   "cell_type": "code",
   "execution_count": 7,
   "id": "e923556c",
   "metadata": {},
   "outputs": [],
   "source": [
    "preprocessed_test_data = []\n",
    "for text in newsgroups_test.data:\n",
    "    preprocessed_text = preprocess(text)\n",
    "    preprocessed_test_data.append(preprocessed_text)"
   ]
  },
  {
   "cell_type": "code",
   "execution_count": 8,
   "id": "93a1d7b0",
   "metadata": {},
   "outputs": [],
   "source": [
    "# Convert the preprocessed text data into feature vectors\n",
    "vectorizer = TfidfVectorizer()\n",
    "train_features = vectorizer.fit_transform(preprocessed_train_data)\n",
    "test_features = vectorizer.transform(preprocessed_test_data)"
   ]
  },
  {
   "cell_type": "code",
   "execution_count": 9,
   "id": "76e09855",
   "metadata": {},
   "outputs": [],
   "source": [
    "nb = MultinomialNB()\n",
    "rf = RandomForestClassifier()"
   ]
  },
  {
   "cell_type": "code",
   "execution_count": 10,
   "id": "9c5ba970",
   "metadata": {},
   "outputs": [
    {
     "data": {
      "text/plain": [
       "RandomForestClassifier()"
      ]
     },
     "execution_count": 10,
     "metadata": {},
     "output_type": "execute_result"
    }
   ],
   "source": [
    "nb.fit(train_features, newsgroups_train.target)\n",
    "rf.fit(train_features, newsgroups_train.target)"
   ]
  },
  {
   "cell_type": "code",
   "execution_count": 11,
   "id": "c0f8c89d",
   "metadata": {},
   "outputs": [],
   "source": [
    "# make predictions on the testing set\n",
    "nb_pred = nb.predict(test_features)\n",
    "rf_pred = rf.predict(test_features)"
   ]
  },
  {
   "cell_type": "code",
   "execution_count": 12,
   "id": "fdf1e9d4",
   "metadata": {},
   "outputs": [],
   "source": [
    "# calculate performance metrics for each classifier\n",
    "nb_acc = accuracy_score(newsgroups_test.target, nb_pred)\n",
    "nb_prec = precision_score(newsgroups_test.target, nb_pred, average='macro')\n",
    "nb_rec = recall_score(newsgroups_test.target, nb_pred, average='weighted')\n",
    "nb_f1 = f1_score(newsgroups_test.target, nb_pred, average='weighted')\n"
   ]
  },
  {
   "cell_type": "code",
   "execution_count": 13,
   "id": "745618e1",
   "metadata": {},
   "outputs": [],
   "source": [
    "rf_acc = accuracy_score(newsgroups_test.target, rf_pred)\n",
    "rf_prec = precision_score(newsgroups_test.target, rf_pred, average='weighted')\n",
    "rf_rec = recall_score(newsgroups_test.target, rf_pred, average='weighted')\n",
    "rf_f1 = f1_score(newsgroups_test.target, rf_pred, average='weighted')"
   ]
  },
  {
   "cell_type": "code",
   "execution_count": 14,
   "id": "96901955",
   "metadata": {},
   "outputs": [
    {
     "name": "stdout",
     "output_type": "stream",
     "text": [
      "Naive Bayes: Accuracy = 0.811603823685608 Precision = 0.8457165061090484 Recall = 0.811603823685608 F1 score = 0.8037271591373294\n",
      "Random Forest: Accuracy = 0.7677907594264471 Precision = 0.7814824931073574 Recall = 0.7677907594264471 F1 score = 0.7631456421368334\n"
     ]
    }
   ],
   "source": [
    "# print the performance metrics\n",
    "print('Naive Bayes: Accuracy =', nb_acc, 'Precision =', nb_prec, 'Recall =', nb_rec, 'F1 score =', nb_f1)\n",
    "print('Random Forest: Accuracy =', rf_acc, 'Precision =', rf_prec, 'Recall =', rf_rec, 'F1 score =', rf_f1)"
   ]
  },
  {
   "cell_type": "code",
   "execution_count": null,
   "id": "e3fa8d72",
   "metadata": {},
   "outputs": [],
   "source": [
    "from sklearn.neural_network import MLPClassifier\n",
    "\n",
    "nn = MLPClassifier(hidden_layer_sizes=(100,), max_iter=500)\n",
    "nn.fit(train_features, newsgroups_train.target)\n",
    "\n",
    "y_pred_nn = nn.predict(test_features)\n",
    "\n",
    "accuracy_nn = accuracy_score(newsgroups_test.target, y_pred_nn)\n",
    "precision_nn = precision_score(newsgroups_test.target, y_pred_nn, average='macro')\n",
    "recall_nn = recall_score(newsgroups_test.target, y_pred_nn, average='macro')\n",
    "f1_score_nn = f1_score(newsgroups_test.target, y_pred_nn, average='macro')"
   ]
  },
  {
   "cell_type": "code",
   "execution_count": null,
   "id": "2382fe5b",
   "metadata": {},
   "outputs": [],
   "source": [
    "print('Neural Network: Accuracy =', accuracy_nn, 'Neural Network:Precision =', precision_nn, 'Neural Network:Recall =', recall_nn, 'Neural Network:F1 score =',f1_score_nn )"
   ]
  },
  {
   "cell_type": "code",
   "execution_count": 14,
   "id": "2c2a3041",
   "metadata": {},
   "outputs": [],
   "source": [
    "from sklearn.naive_bayes import GaussianNB"
   ]
  },
  {
   "cell_type": "code",
   "execution_count": 15,
   "id": "049885b5",
   "metadata": {},
   "outputs": [
    {
     "data": {
      "text/plain": [
       "GaussianNB()"
      ]
     },
     "execution_count": 15,
     "metadata": {},
     "output_type": "execute_result"
    }
   ],
   "source": [
    "cglf = GaussianNB()\n",
    "cglf.fit(train_features.toarray(), newsgroups_train.target)"
   ]
  },
  {
   "cell_type": "code",
   "execution_count": 16,
   "id": "c05445b8",
   "metadata": {},
   "outputs": [],
   "source": [
    "# Predict the labels of the testing data using the trained classifier\n",
    "predicted_labels = cglf.predict(test_features.toarray())"
   ]
  },
  {
   "cell_type": "code",
   "execution_count": 17,
   "id": "26f559d6",
   "metadata": {},
   "outputs": [
    {
     "name": "stdout",
     "output_type": "stream",
     "text": [
      "Accuracy: 0.7320764737121614\n",
      "Precision: 0.7306466795904548\n",
      "Recall: 0.7320764737121614\n",
      "F1: 0.7291075099297726\n"
     ]
    }
   ],
   "source": [
    "accuracy = accuracy_score(newsgroups_test.target, predicted_labels)\n",
    "prec = precision_score(newsgroups_test.target, predicted_labels, average='weighted')\n",
    "rec = recall_score(newsgroups_test.target, predicted_labels, average='weighted')\n",
    "f1 = f1_score(newsgroups_test.target, predicted_labels, average='weighted')\n",
    "print('Gaussian Naive Bayes: Accuracy=', accuracy)\n",
    "print('Gaussian Naive Bayes: Precision=', prec)\n",
    "print('Gaussian Naive Bayes: Recall=', rec)\n",
    "print('Gaussian Naive Bayes: F1=', f1)"
   ]
  },
  {
   "cell_type": "code",
   "execution_count": 24,
   "id": "dd3a7630",
   "metadata": {},
   "outputs": [
    {
     "data": {
      "image/png": "[encoded data removed]",
      "text/plain": [
       "<Figure size 640x480 with 1 Axes>"
      ]
     },
     "metadata": {},
     "output_type": "display_data"
    }
   ],
   "source": [
    "import matplotlib.pyplot as plt\n",
    "\n",
    "# Define the performance measures for Naive Bayes, Random Forest, and Gaussian Naive Bayes\n",
    "nb_acc, nb_prec, nb_rec, nb_f1 = 0.81, 0.84, 0.81, 0.80\n",
    "rf_acc, rf_prec, rf_rec, rf_f1 = 0.77, 0.78, 0.77, 0.76\n",
    "gnb_acc, gnb_prec, gnb_rec, gnb_f1 = 0.73, 0.73, 0.73, 0.72\n",
    "\n",
    "# Define the labels and values for the different measures\n",
    "labels = ['Accuracy', 'Precision', 'Recall', 'F1']\n",
    "nb_values = [nb_acc, nb_prec, nb_rec, nb_f1]\n",
    "rf_values = [rf_acc, rf_prec, rf_rec, rf_f1]\n",
    "gnb_values = [gnb_acc, gnb_prec, gnb_rec, gnb_f1]\n",
    "\n",
    "# Create a bar plot to compare the measures for Naive Bayes, Random Forest, and Gaussian Naive Bayes\n",
    "x = list(range(len(labels)))\n",
    "width = 0.25\n",
    "fig, ax = plt.subplots()\n",
    "ax.bar([i - width for i in x], nb_values, width, label='Naive Bayes')\n",
    "ax.bar(x, rf_values, width, label='Random Forest')\n",
    "ax.bar([i + width for i in x], gnb_values, width, label='Gaussian Naive Bayes')\n",
    "ax.set_ylabel('Score')\n",
    "ax.set_xticks(x)\n",
    "ax.set_xticklabels(labels)\n",
    "ax.legend()\n",
    "\n",
    "ax.set_ylim([0, 1])\n",
    "\n",
    "# Show the plot\n",
    "plt.show()\n"
   ]
  },
  {
   "cell_type": "code",
   "execution_count": null,
   "id": "626feb92",
   "metadata": {},
   "outputs": [],
   "source": []
  }
 ],
 "metadata": {
  "kernelspec": {
   "display_name": "Python 3 (ipykernel)",
   "language": "python",
   "name": "python3"
  },
  "language_info": {
   "codemirror_mode": {
    "name": "ipython",
    "version": 3
   },
   "file_extension": ".py",
   "mimetype": "text/x-python",
   "name": "python",
   "nbconvert_exporter": "python",
   "pygments_lexer": "ipython3",
   "version": "3.9.13"
  }
 },
 "nbformat": 4,
 "nbformat_minor": 5
}
